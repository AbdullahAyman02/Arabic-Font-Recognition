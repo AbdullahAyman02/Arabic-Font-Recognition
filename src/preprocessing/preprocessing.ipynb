{
 "cells": [
  {
   "cell_type": "markdown",
   "metadata": {},
   "source": [
    "#### make sure dataset is downloaded and extracted `@repoDirectory/data/raw/font-datas0et` -> this path should be at the repo root"
   ]
  },
  {
   "cell_type": "code",
   "execution_count": 6,
   "metadata": {},
   "outputs": [
    {
     "name": "stderr",
     "output_type": "stream",
     "text": [
      "2318.90s - pydevd: Sending message related to process being replaced timed-out after 5 seconds\n"
     ]
    },
    {
     "name": "stdout",
     "output_type": "stream",
     "text": [
      "Defaulting to user installation because normal site-packages is not writeable\n",
      "Requirement already satisfied: numpy in /home/heggi/.local/lib/python3.10/site-packages (from -r ../../requirements.txt (line 3)) (1.26.0)\n",
      "Requirement already satisfied: pandas in /home/heggi/.local/lib/python3.10/site-packages (from -r ../../requirements.txt (line 4)) (2.1.1)\n",
      "Requirement already satisfied: sciKit-learn in /home/heggi/.local/lib/python3.10/site-packages (from -r ../../requirements.txt (line 5)) (1.3.2)\n",
      "Requirement already satisfied: opencv-python in /home/heggi/.local/lib/python3.10/site-packages (from -r ../../requirements.txt (line 6)) (4.9.0.80)\n",
      "Requirement already satisfied: matplotlib in /home/heggi/.local/lib/python3.10/site-packages (from -r ../../requirements.txt (line 7)) (3.8.0)\n",
      "Requirement already satisfied: python-dateutil>=2.8.2 in /home/heggi/.local/lib/python3.10/site-packages (from pandas->-r ../../requirements.txt (line 4)) (2.8.2)\n",
      "Requirement already satisfied: pytz>=2020.1 in /usr/lib/python3/dist-packages (from pandas->-r ../../requirements.txt (line 4)) (2022.1)\n",
      "Requirement already satisfied: tzdata>=2022.1 in /home/heggi/.local/lib/python3.10/site-packages (from pandas->-r ../../requirements.txt (line 4)) (2023.3)\n",
      "Requirement already satisfied: scipy>=1.5.0 in /home/heggi/.local/lib/python3.10/site-packages (from sciKit-learn->-r ../../requirements.txt (line 5)) (1.11.3)\n",
      "Requirement already satisfied: joblib>=1.1.1 in /home/heggi/.local/lib/python3.10/site-packages (from sciKit-learn->-r ../../requirements.txt (line 5)) (1.3.2)\n",
      "Requirement already satisfied: threadpoolctl>=2.0.0 in /home/heggi/.local/lib/python3.10/site-packages (from sciKit-learn->-r ../../requirements.txt (line 5)) (3.2.0)\n",
      "Requirement already satisfied: contourpy>=1.0.1 in /home/heggi/.local/lib/python3.10/site-packages (from matplotlib->-r ../../requirements.txt (line 7)) (1.1.1)\n",
      "Requirement already satisfied: cycler>=0.10 in /home/heggi/.local/lib/python3.10/site-packages (from matplotlib->-r ../../requirements.txt (line 7)) (0.12.0)\n",
      "Requirement already satisfied: fonttools>=4.22.0 in /home/heggi/.local/lib/python3.10/site-packages (from matplotlib->-r ../../requirements.txt (line 7)) (4.43.1)\n",
      "Requirement already satisfied: kiwisolver>=1.0.1 in /home/heggi/.local/lib/python3.10/site-packages (from matplotlib->-r ../../requirements.txt (line 7)) (1.4.5)\n",
      "Requirement already satisfied: packaging>=20.0 in /home/heggi/.local/lib/python3.10/site-packages (from matplotlib->-r ../../requirements.txt (line 7)) (23.2)\n",
      "Requirement already satisfied: pillow>=6.2.0 in /home/heggi/.local/lib/python3.10/site-packages (from matplotlib->-r ../../requirements.txt (line 7)) (10.3.0)\n",
      "Requirement already satisfied: pyparsing>=2.3.1 in /usr/lib/python3/dist-packages (from matplotlib->-r ../../requirements.txt (line 7)) (2.4.7)\n",
      "Requirement already satisfied: six>=1.5 in /usr/lib/python3/dist-packages (from python-dateutil>=2.8.2->pandas->-r ../../requirements.txt (line 4)) (1.16.0)\n",
      "Note: you may need to restart the kernel to use updated packages.\n"
     ]
    }
   ],
   "source": [
    "#install all dependencies\n",
    "%pip install -r \"../../requirements.txt\""
   ]
  },
  {
   "cell_type": "code",
   "execution_count": null,
   "metadata": {},
   "outputs": [],
   "source": []
  }
 ],
 "metadata": {
  "kernelspec": {
   "display_name": "Python 3",
   "language": "python",
   "name": "python3"
  },
  "language_info": {
   "codemirror_mode": {
    "name": "ipython",
    "version": 3
   },
   "file_extension": ".py",
   "mimetype": "text/x-python",
   "name": "python",
   "nbconvert_exporter": "python",
   "pygments_lexer": "ipython3",
   "version": "3.10.12"
  }
 },
 "nbformat": 4,
 "nbformat_minor": 2
}
