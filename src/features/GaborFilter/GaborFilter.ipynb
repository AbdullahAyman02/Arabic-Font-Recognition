{
 "cells": [
  {
   "cell_type": "code",
   "execution_count": null,
   "metadata": {},
   "outputs": [],
   "source": [
    "from GaborFilter import gabor_filter\n",
    "from GaborFilter import generate_gabor_kernel_cv\n",
    "from GaborFilter import apply_gabor_filters_cv\n",
    "import skimage as ski"
   ]
  },
  {
   "cell_type": "markdown",
   "metadata": {},
   "source": [
    "### draw kernels"
   ]
  },
  {
   "cell_type": "code",
   "execution_count": null,
   "metadata": {},
   "outputs": [],
   "source": [
    "import matplotlib.pyplot as plt\n",
    "import numpy as np\n",
    "# Assuming kernels is a list of 2D Gabor kernels\n",
    "kernels = generate_gabor_kernel_cv()\n",
    "print(kernels)\n",
    "\n",
    "fig, axes = plt.subplots(nrows=len(kernels), figsize=(5, 5*len(kernels)))\n",
    "\n",
    "for ax, kernel in zip(axes, kernels):\n",
    "    print(kernel.shape)\n",
    "    ax.imshow(np.real(kernel), cmap='gray')\n",
    "    ax.axis('off')\n",
    "\n",
    "plt.show()"
   ]
  },
  {
   "cell_type": "code",
   "execution_count": null,
   "metadata": {},
   "outputs": [],
   "source": [
    "kernels = generate_gabor_kernel_cv()\n",
    "\n",
    "img = ski.io.imread(\"../../data/processed/fonts-dataset/Scheherazade New/4.jpeg\")\n",
    "gabor_vect=  apply_gabor_filters_cv(img , kernels)\n",
    "print(gabor_vect)\n",
    "print(len(gabor_vect)) \n"
   ]
  },
  {
   "cell_type": "code",
   "execution_count": null,
   "metadata": {},
   "outputs": [],
   "source": [
    "img = ski.io.imread(\"../../data/processed/fonts-dataset/Scheherazade New/4.jpeg\")\n",
    "gaborfilter = gabor_filter(img)\n",
    "print(gaborfilter)\n",
    "print(len(gaborfilter))"
   ]
  },
  {
   "cell_type": "code",
   "execution_count": null,
   "metadata": {},
   "outputs": [],
   "source": []
  }
 ],
 "metadata": {
  "kernelspec": {
   "display_name": "Python 3",
   "language": "python",
   "name": "python3"
  },
  "language_info": {
   "codemirror_mode": {
    "name": "ipython",
    "version": 3
   },
   "file_extension": ".py",
   "mimetype": "text/x-python",
   "name": "python",
   "nbconvert_exporter": "python",
   "pygments_lexer": "ipython3",
   "version": "3.12.1"
  }
 },
 "nbformat": 4,
 "nbformat_minor": 2
}
