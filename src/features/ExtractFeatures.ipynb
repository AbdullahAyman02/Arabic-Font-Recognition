{
 "cells": [
  {
   "cell_type": "code",
   "execution_count": null,
   "metadata": {},
   "outputs": [],
   "source": [
    "import sys\n",
    "sys.path.append(\"../\")\n",
    "\n",
    "from ExtractFeatures import extract_features\n",
    "from PreProcessing import PreProcessing\n",
    "\n",
    "from GaborFilter.GaborFilter import generate_gabor_kernel_cv, gabor_filter\n",
    "import skimage as ski\n",
    "import tqdm\n",
    "import pandas as pd\n",
    "import os\n",
    "import numpy as np"
   ]
  },
  {
   "cell_type": "code",
   "execution_count": null,
   "metadata": {},
   "outputs": [],
   "source": [
    "import skimage as ski\n",
    "import numpy as np\n",
    "kernels = []\n",
    "thetas = [0 , np.pi/4 , np.pi/2 , 3*np.pi/4] # mentioned in the papers  0  , 45 , 90 , 135\n",
    "for theta in thetas : \n",
    "    for frequency in [0.1, 0.2, 0.3, 0.4] : \n",
    "        kernel = ski.filters.gabor_kernel(frequency=frequency , theta = theta )\n",
    "        kernels.append(np.real(kernel))\n",
    "# Convert kernels to real values\n",
    "# kernels = [np.real(kernel) for kernel in kernels]\n",
    "\n",
    "img = ski.io.imread(\"../data/processed/fonts-dataset/Scheherazade New/4.jpeg\")\n",
    "features = extract_features(img,kernels)\n",
    "# print(features)\n",
    "print(len(features))"
   ]
  },
  {
   "cell_type": "code",
   "execution_count": null,
   "metadata": {},
   "outputs": [],
   "source": [
    "Folders = ['IBM Plex Sans Arabic', 'Lemonada', 'Marhey', 'Scheherazade New']\n",
    "\n",
    "columns=['Area Ratio']\n",
    "for i in range(1, 17):\n",
    "    columns.append('gabor mean ' + str(i))\n",
    "    columns.append('gabor std ' + str(i))\n",
    "    columns.append('gabor energy ' + str(i))\n",
    "\n",
    "for i in range(1, 6):\n",
    "    columns.append('glcm ' + str(i))\n",
    "for i in range(1, 27):\n",
    "    columns.append('lbp ' + str(i))\n",
    "# for i in range(1, 26):\n",
    "#     columns.append('zernike ' + str(i))\n",
    "\n",
    "columns.append('font_type')\n",
    "\n",
    "features = pd.DataFrame(columns=columns)\n",
    "# kernels = generate_gabor_kernel_cv()\n",
    "import skimage as ski\n",
    "import numpy as np\n",
    "kernels = []\n",
    "thetas = [0 , np.pi/4 , np.pi/2 , 3*np.pi/4] # mentioned in the papers  0  , 45 , 90 , 135\n",
    "for theta in thetas : \n",
    "    for frequency in [0.05, 0.01, 0.15, 0.3] : \n",
    "        kernel = ski.filters.gabor_kernel(frequency=frequency , theta = theta )\n",
    "        kernels.append(np.real(kernel))\n",
    "\n",
    "import random\n",
    "# random_numbers = random.sample(range(1000), 1000)\n",
    "\n",
    "# for i in tqdm.tqdm(random_numbers):\n",
    "for i in tqdm.tqdm(range(1000)):\n",
    "    for j in range(4):\n",
    "        # pathname = \"../data/processed_wo_hough/fonts-dataset/\" + Folders[j] + \"/\" + str(i) + \".jpeg\"\n",
    "        # pathname = \"../data/processed/fonts-dataset/\" + Folders[j] + \"/\" + str(i) + \".jpeg\"\n",
    "        pathname = \"../data/raw/fonts-dataset/\" + Folders[j] + \"/\" + str(i) + \".jpeg\"\n",
    "        if not os.path.exists(pathname):\n",
    "            continue\n",
    "        img = ski.io.imread(pathname)\n",
    "        if len(np.unique(img)) == 1 : \n",
    "                continue # all image contain the same color \n",
    "        preprocessed_img = PreProcessing.PreProcessing(img)\n",
    "        features_vect = extract_features(preprocessed_img, kernels)\n",
    "        # print(features_vect)\n",
    "        features_vect = np.append(features_vect, j)\n",
    "        features = pd.concat([features, pd.DataFrame([features_vect], columns=columns)])\n",
    "\n",
    "features.to_csv(\"./features_1000_again.csv\")\n"
   ]
  }
 ],
 "metadata": {
  "kernelspec": {
   "display_name": "Python 3",
   "language": "python",
   "name": "python3"
  },
  "language_info": {
   "codemirror_mode": {
    "name": "ipython",
    "version": 3
   },
   "file_extension": ".py",
   "mimetype": "text/x-python",
   "name": "python",
   "nbconvert_exporter": "python",
   "pygments_lexer": "ipython3",
   "version": "3.12.1"
  }
 },
 "nbformat": 4,
 "nbformat_minor": 2
}
