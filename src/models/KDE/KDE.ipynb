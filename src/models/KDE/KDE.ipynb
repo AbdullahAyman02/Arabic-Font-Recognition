{
 "cells": [
  {
   "cell_type": "code",
   "execution_count": 1,
   "metadata": {},
   "outputs": [],
   "source": [
    "import sys\n",
    "sys.path.append(\"../../\")\n",
    "sys.path.append(\"../../features\")\n",
    "\n",
    "from preprocessing.PreProcessing import PreProcessing\n",
    "from features.ExtractFeatures import extract_features\n",
    "from features.GaborFilter.GaborFilter import generate_gabor_kernel_cv \n",
    "import numpy as np\n",
    "import matplotlib.pyplot as plt\n",
    "import pandas as pd\n",
    "import skimage as ski\n",
    "from sklearn.model_selection import train_test_split\n",
    "import tqdm\n",
    "import pandas as pd\n",
    "import os\n",
    "from sklearn import svm\n",
    "from sklearn.preprocessing import StandardScaler\n",
    "from sklearn.metrics import accuracy_score\n",
    "\n"
   ]
  },
  {
   "cell_type": "markdown",
   "metadata": {},
   "source": [
    "## load the dataset"
   ]
  },
  {
   "cell_type": "code",
   "execution_count": 2,
   "metadata": {},
   "outputs": [],
   "source": [
    "from sklearn.model_selection import cross_val_score\n",
    "from sklearn.discriminant_analysis import QuadraticDiscriminantAnalysis\n",
    "import warnings\n",
    "warnings.filterwarnings(\"ignore\")\n",
    "\n",
    "dataset = pd.read_csv('../../features/features_1000_again.csv')    \n",
    "x_data = dataset.drop(columns=['Unnamed: 0'])     \n",
    "unique_counts = dataset.nunique()\n",
    "columns_to_drop = unique_counts[unique_counts == 1].index\n",
    "x_data = dataset.drop(columns=columns_to_drop)\n",
    "x_data = x_data.iloc[:, :-1]                                   \n",
    "y_data = dataset['font_type']  \n",
    "\n"
   ]
  },
  {
   "cell_type": "markdown",
   "metadata": {},
   "source": [
    "## standardize the dataset"
   ]
  },
  {
   "cell_type": "code",
   "execution_count": 3,
   "metadata": {},
   "outputs": [],
   "source": [
    "\n",
    "scaler = StandardScaler()\n",
    "scaler.fit(x_data)\n",
    "x_data = scaler.transform(x_data)\n"
   ]
  },
  {
   "cell_type": "markdown",
   "metadata": {},
   "source": [
    "## train test split "
   ]
  },
  {
   "cell_type": "code",
   "execution_count": 4,
   "metadata": {},
   "outputs": [],
   "source": [
    "\n",
    "# split the data to avoid overfitting\n",
    "x_train, x_val, y_train, y_val = train_test_split(x_data, y_data, test_size=0.1, random_state=42)\n"
   ]
  },
  {
   "cell_type": "markdown",
   "metadata": {},
   "source": [
    "## initialize the model "
   ]
  },
  {
   "cell_type": "code",
   "execution_count": 8,
   "metadata": {},
   "outputs": [],
   "source": [
    "from BayesClassifier import BayesClassifier\n",
    "from KDEstimator import KDEstimator\n",
    "\n",
    "kde = KDEstimator(bump='Gauss', bandwidth='Scott')\n",
    "kde_clf = BayesClassifier(mode='KDE', kde_config=kde)\n"
   ]
  },
  {
   "cell_type": "markdown",
   "metadata": {},
   "source": [
    "### validation"
   ]
  },
  {
   "cell_type": "code",
   "execution_count": 10,
   "metadata": {},
   "outputs": [
    {
     "name": "stdout",
     "output_type": "stream",
     "text": [
      "Accuracy: 0.32\n"
     ]
    }
   ],
   "source": [
    "# Fit the KDE classifier\n",
    "kde_clf.fit(x_train, y_train)\n",
    "\n",
    "# Predict on the validation set\n",
    "y_pred = kde_clf.predict(x_val)\n",
    "\n",
    "# Calculate accuracy\n",
    "accuracy = accuracy_score(y_val, y_pred)\n",
    "print(\"Accuracy:\", accuracy)"
   ]
  },
  {
   "cell_type": "code",
   "execution_count": null,
   "metadata": {},
   "outputs": [],
   "source": []
  }
 ],
 "metadata": {
  "kernelspec": {
   "display_name": "Python 3",
   "language": "python",
   "name": "python3"
  },
  "language_info": {
   "codemirror_mode": {
    "name": "ipython",
    "version": 3
   },
   "file_extension": ".py",
   "mimetype": "text/x-python",
   "name": "python",
   "nbconvert_exporter": "python",
   "pygments_lexer": "ipython3",
   "version": "3.10.12"
  }
 },
 "nbformat": 4,
 "nbformat_minor": 2
}
