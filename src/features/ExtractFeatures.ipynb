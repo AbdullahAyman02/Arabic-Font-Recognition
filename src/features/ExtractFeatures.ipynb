{
 "cells": [
  {
   "cell_type": "markdown",
   "metadata": {},
   "source": [
    "# Imports"
   ]
  },
  {
   "cell_type": "code",
   "execution_count": null,
   "metadata": {},
   "outputs": [],
   "source": [
    "import os\n",
    "import numpy as np\n",
    "import pandas as pd\n",
    "import skimage as ski\n",
    "import tqdm\n",
    "\n",
    "from ExtractFeatures import extract_features\n",
    "from GaborFilter.GaborFilter import generate_gabor_kernel_ski, gabor_filter_ski\n"
   ]
  },
  {
   "cell_type": "markdown",
   "metadata": {},
   "source": [
    "# Testing feature extraction"
   ]
  },
  {
   "cell_type": "code",
   "execution_count": null,
   "metadata": {},
   "outputs": [],
   "source": [
    "# Define thetas and frequencies\n",
    "thetas = [0, np.pi/4, np.pi/2, 3*np.pi/4]\n",
    "frequencies = [0.1, 0.2, 0.3, 0.4]\n",
    "\n",
    "# Generate Gabor kernels\n",
    "kernels = generate_gabor_kernel_ski(thetas=thetas, frequencies=frequencies)\n",
    "\n",
    "# Read image\n",
    "img = ski.io.imread(\"../data/processed/fonts-dataset/Scheherazade New/4.jpeg\")\n",
    "\n",
    "# Extract features\n",
    "features = extract_features(img, kernels)\n",
    "\n",
    "# Print length of features\n",
    "print(len(features))"
   ]
  },
  {
   "cell_type": "code",
   "execution_count": null,
   "metadata": {},
   "outputs": [],
   "source": [
    "import random\n",
    "\n",
    "# List of font folders\n",
    "Folders = ['IBM Plex Sans Arabic', 'Lemonada', 'Marhey', 'Scheherazade New']\n",
    "\n",
    "# Adding feature columns\n",
    "columns = ['Area Ratio']\n",
    "columns.extend([f'gabor mean {i}' for i in range(1, 17)])\n",
    "columns.extend([f'gabor std {i}' for i in range(1, 17)])\n",
    "columns.extend([f'gabor energy {i}' for i in range(1, 17)])\n",
    "columns.extend([f'glcm {i}' for i in range(1, 6)])\n",
    "columns.extend([f'lbp {i}' for i in range(1, 27)])\n",
    "# Adding label column\n",
    "columns.append('font_type')\n",
    "\n",
    "# Create an empty DataFrame for features\n",
    "features = pd.DataFrame(columns=columns)\n",
    "\n",
    "# Generate Gabor kernels\n",
    "thetas = [0, np.pi/4, np.pi/2, 3*np.pi/4]\n",
    "frequencies = [0.1, 0.2, 0.3, 0.4]\n",
    "kernels = generate_gabor_kernel_ski(thetas=thetas, frequencies=frequencies)\n",
    "\n",
    "# Randomly select image numbers\n",
    "random_numbers = random.sample(range(1000), 1000)\n",
    "\n",
    "# Extract features from images\n",
    "for i in tqdm.tqdm(random_numbers):\n",
    "    for j, folder in enumerate(Folders):\n",
    "        pathname = f\"../data/processed/fonts-dataset/{folder}/{i}.jpeg\"\n",
    "        if not os.path.exists(pathname):\n",
    "            continue\n",
    "        img = ski.io.imread(pathname)\n",
    "        features_vect = extract_features(img, kernels)\n",
    "        features_vect = np.append(features_vect, j)\n",
    "        features = pd.concat([features, pd.DataFrame([features_vect], columns=columns)])\n",
    "\n",
    "# Save features to CSV\n",
    "features.to_csv(\"./features_test.csv\")\n"
   ]
  }
 ],
 "metadata": {
  "kernelspec": {
   "display_name": "Python 3",
   "language": "python",
   "name": "python3"
  },
  "language_info": {
   "codemirror_mode": {
    "name": "ipython",
    "version": 3
   },
   "file_extension": ".py",
   "mimetype": "text/x-python",
   "name": "python",
   "nbconvert_exporter": "python",
   "pygments_lexer": "ipython3",
   "version": "3.10.12"
  }
 },
 "nbformat": 4,
 "nbformat_minor": 2
}
