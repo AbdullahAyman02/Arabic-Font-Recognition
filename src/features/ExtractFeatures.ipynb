{
 "cells": [
  {
   "cell_type": "code",
   "execution_count": 1,
   "metadata": {},
   "outputs": [],
   "source": [
    "from ExtractFeatures import extract_features\n",
    "from GaborFilter.GaborFilter import generate_gabor_kernel_cv\n",
    "import skimage as ski"
   ]
  },
  {
   "cell_type": "code",
   "execution_count": 3,
   "metadata": {},
   "outputs": [
    {
     "name": "stdout",
     "output_type": "stream",
     "text": [
      "[8.72544298e-02 1.21762367e+02 1.26306373e+02 1.88529600e+06\n",
      " 1.14388104e+02 1.23731535e+02 4.66887900e+06 9.74927786e+01\n",
      " 1.15107654e+02 1.20768060e+07 7.24713432e+01 9.76139767e+01\n",
      " 2.11529450e+07 1.22066079e+02 1.26262737e+02 1.91107900e+06\n",
      " 1.15829422e+02 1.23926878e+02 4.64338400e+06 1.06691550e+02\n",
      " 1.19747747e+02 8.65795000e+06 9.03646033e+01 1.10225734e+02\n",
      " 1.55666240e+07 1.21975407e+02 1.26656691e+02 1.36438400e+06\n",
      " 1.18498479e+02 1.25571116e+02 2.67717800e+06 1.06213459e+02\n",
      " 1.20382883e+02 7.80093800e+06 8.97053342e+01 1.11556404e+02\n",
      " 1.39592850e+07 1.22583756e+02 1.26333279e+02 1.84906800e+06\n",
      " 1.15612559e+02 1.24021889e+02 4.47106600e+06 1.03143219e+02\n",
      " 1.17937974e+02 1.01401270e+07 8.32155915e+01 1.05169120e+02\n",
      " 1.83810210e+07]\n",
      "49\n"
     ]
    }
   ],
   "source": [
    "kernels = generate_gabor_kernel_cv()\n",
    "img = ski.io.imread(\"../data/processed/fonts-dataset/Scheherazade New/4.jpeg\")\n",
    "features = extract_features(img,kernels)\n",
    "print(features)\n",
    "print(len(features))"
   ]
  },
  {
   "cell_type": "code",
   "execution_count": null,
   "metadata": {},
   "outputs": [],
   "source": []
  },
  {
   "cell_type": "markdown",
   "metadata": {},
   "source": [
    "<mark> below are some test code the GLCM  and LBP <mark>"
   ]
  },
  {
   "cell_type": "code",
   "execution_count": 3,
   "metadata": {},
   "outputs": [],
   "source": [
    "# from skimage.feature import graycomatrix, graycoprops\n",
    "# from skimage import io, color ,img_as_ubyte\n",
    "# from scipy.stats import entropy\n",
    "# # Load the image\n",
    "# image = io.imread('../../data/raw/fonts-dataset/Scheherazade New/0.jpeg')\n",
    "# image2 = io.imread('../../data/raw/fonts-dataset/Marhey/0.jpeg')\n",
    "\n",
    "# # Convert the image to grayscale\n",
    "# gray_image = color.rgb2gray(image)\n",
    "# gray_image2 = color.rgb2gray(image2)\n",
    "# gray_image = img_as_ubyte(gray_image)\n",
    "# gray_image2 = img_as_ubyte(gray_image2)\n",
    "# # Compute the GLCM\n",
    "# glcm = graycomatrix(gray_image, distances=[5], angles=[0], levels=256, symmetric=True, normed=True)\n",
    "# glcm2 = graycomatrix(gray_image2, distances=[5], angles=[0], levels=256, symmetric=True, normed=True)\n",
    "\n",
    "# # Compute GLCM properties\n",
    "# contrast = graycoprops(glcm, 'contrast')[0, 0]\n",
    "# dissimilarity = graycoprops(glcm, 'dissimilarity')[0, 0]\n",
    "# homogeneity = graycoprops(glcm, 'homogeneity')[0, 0]\n",
    "# energy = graycoprops(glcm, 'energy')[0, 0]\n",
    "# correlation = graycoprops(glcm, 'correlation')[0, 0]\n",
    "\n",
    "\n",
    "# zcontrast = graycoprops(glcm2, 'contrast')[0, 0]\n",
    "# zdissimilarity = graycoprops(glcm2, 'dissimilarity')[0, 0]\n",
    "# zhomogeneity = graycoprops(glcm2, 'homogeneity')[0, 0]\n",
    "# zenergy = graycoprops(glcm2, 'energy')[0, 0]\n",
    "# zcorrelation = graycoprops(glcm2, 'correlation')[0, 0]\n",
    "\n",
    "# print('Contrast:', contrast)\n",
    "# print('Dissimilarity:', dissimilarity)\n",
    "# print('Homogeneity:', homogeneity)\n",
    "# print('Energy:', energy)\n",
    "# print('Correlation:', correlation)\n",
    "# entropy_val = entropy(glcm.flatten())\n",
    "\n",
    "# print('Entropy:', entropy_val)\n",
    "\n",
    "\n",
    "# print('Contrast:', zcontrast)\n",
    "# print('Dissimilarity:', zdissimilarity)\n",
    "# print('Homogeneity:', zhomogeneity)\n",
    "# print('Energy:', zenergy)\n",
    "# print('Correlation:', zcorrelation)\n",
    "# entropy_val = entropy(glcm2.flatten())\n",
    "\n",
    "# print('Entropy:', entropy_val)\n",
    "\n",
    "\n",
    "\n"
   ]
  },
  {
   "cell_type": "code",
   "execution_count": 4,
   "metadata": {},
   "outputs": [],
   "source": [
    "# from skimage import io\n",
    "# from skimage.feature import local_binary_pattern\n",
    "# from skimage.color import rgb2gray\n",
    "# import matplotlib.pyplot as plt\n",
    "\n",
    "# # Load the image\n",
    "# image = io.imread('../../data/processed/fonts-dataset/Lemonada/920.jpeg')\n",
    "\n",
    "# # Convert the image to grayscale\n",
    "\n",
    "# # Settings for LBP\n",
    "# radius = 3\n",
    "# n_points = 8 * radius\n",
    "\n",
    "# # Compute LBP\n",
    "# lbp = local_binary_pattern(image, n_points, radius, method=\"uniform\")\n",
    "\n",
    "# # Display the original image and LBP\n",
    "# fig, (ax1, ax2) = plt.subplots(1, 2, figsize=(12, 6))\n",
    "\n",
    "# ax1.imshow(image, cmap='gray')\n",
    "# ax1.set_title('Original Image')\n",
    "# ax1.axis('off')\n",
    "\n",
    "# ax2.imshow(lbp, cmap='gray')\n",
    "# ax2.set_title('LBP Image')\n",
    "# ax2.axis('off')\n",
    "\n",
    "# plt.show()"
   ]
  }
 ],
 "metadata": {
  "kernelspec": {
   "display_name": "Python 3",
   "language": "python",
   "name": "python3"
  },
  "language_info": {
   "codemirror_mode": {
    "name": "ipython",
    "version": 3
   },
   "file_extension": ".py",
   "mimetype": "text/x-python",
   "name": "python",
   "nbconvert_exporter": "python",
   "pygments_lexer": "ipython3",
   "version": "3.10.12"
  }
 },
 "nbformat": 4,
 "nbformat_minor": 2
}
