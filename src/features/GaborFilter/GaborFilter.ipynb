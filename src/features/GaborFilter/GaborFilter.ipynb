{
 "cells": [
  {
   "cell_type": "markdown",
   "metadata": {},
   "source": [
    "# Imports"
   ]
  },
  {
   "cell_type": "code",
   "execution_count": null,
   "metadata": {},
   "outputs": [],
   "source": [
    "import skimage as ski\n",
    "from GaborFilter import gabor_filter_ski\n",
    "from GaborFilter import generate_gabor_kernel_cv\n",
    "from GaborFilter import apply_gabor_filters_cv"
   ]
  },
  {
   "cell_type": "markdown",
   "metadata": {},
   "source": [
    "# Draw kernels"
   ]
  },
  {
   "cell_type": "code",
   "execution_count": null,
   "metadata": {},
   "outputs": [],
   "source": [
    "import matplotlib.pyplot as plt\n",
    "import numpy as np\n",
    "# Assuming kernels is a list of 2D Gabor kernels\n",
    "thetas = [0, np.pi/4, np.pi/2, 3*np.pi/4]\n",
    "frequencies = [0.1, 0.2, 0.3, 0.4]\n",
    "kernels = generate_gabor_kernel_cv(thetas=thetas,frequencies=frequencies)\n",
    "print(kernels)\n",
    "\n",
    "fig, axes = plt.subplots(nrows=len(kernels), figsize=(5, 5*len(kernels)))\n",
    "\n",
    "for ax, kernel in zip(axes, kernels):\n",
    "    print(kernel.shape)\n",
    "    ax.imshow(np.real(kernel), cmap='gray')\n",
    "    ax.axis('off')\n",
    "\n",
    "plt.show()"
   ]
  },
  {
   "cell_type": "markdown",
   "metadata": {},
   "source": [
    "# Testing OpenCV"
   ]
  },
  {
   "cell_type": "code",
   "execution_count": null,
   "metadata": {},
   "outputs": [],
   "source": [
    "thetas = [0, np.pi/4, np.pi/2, 3*np.pi/4]\n",
    "frequencies = [0.1, 0.2, 0.3, 0.4]\n",
    "kernels = generate_gabor_kernel_cv(thetas=thetas,frequencies=frequencies)\n",
    "\n",
    "img = ski.io.imread(\"../../data/processed/fonts-dataset/Scheherazade New/4.jpeg\")\n",
    "gabor_vect=  apply_gabor_filters_cv(img , kernels)\n",
    "print(gabor_vect)\n",
    "print(len(gabor_vect)) \n"
   ]
  },
  {
   "cell_type": "markdown",
   "metadata": {},
   "source": [
    "# Testing Skimage"
   ]
  },
  {
   "cell_type": "code",
   "execution_count": null,
   "metadata": {},
   "outputs": [],
   "source": [
    "img = ski.io.imread(\"../../data/processed/fonts-dataset/Scheherazade New/4.jpeg\")\n",
    "thetas = [0, np.pi/4, np.pi/2, 3*np.pi/4]\n",
    "frequencies = [0.1, 0.2, 0.3, 0.4]\n",
    "gaborfilter = gabor_filter_ski(img,thetas=thetas,frequencies=frequencies)\n",
    "print(gaborfilter)\n",
    "print(len(gaborfilter))"
   ]
  },
  {
   "cell_type": "code",
   "execution_count": null,
   "metadata": {},
   "outputs": [],
   "source": []
  }
 ],
 "metadata": {
  "kernelspec": {
   "display_name": "Python 3",
   "language": "python",
   "name": "python3"
  },
  "language_info": {
   "codemirror_mode": {
    "name": "ipython",
    "version": 3
   },
   "file_extension": ".py",
   "mimetype": "text/x-python",
   "name": "python",
   "nbconvert_exporter": "python",
   "pygments_lexer": "ipython3",
   "version": "3.11.5"
  }
 },
 "nbformat": 4,
 "nbformat_minor": 2
}
