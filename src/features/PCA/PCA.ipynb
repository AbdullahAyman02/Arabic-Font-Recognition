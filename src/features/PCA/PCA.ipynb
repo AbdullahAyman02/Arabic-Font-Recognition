{
 "cells": [
  {
   "cell_type": "code",
   "execution_count": null,
   "metadata": {},
   "outputs": [],
   "source": [
    "\n",
    "#resizeing\n",
    "def resize_image(image , width , height):\n",
    "    return ski.transform.resize(image, (width, height))"
   ]
  },
  {
   "cell_type": "code",
   "execution_count": null,
   "metadata": {},
   "outputs": [],
   "source": [
    "avg_width = 604.47125\n",
    "avg_height = 961.69775"
   ]
  },
  {
   "cell_type": "code",
   "execution_count": null,
   "metadata": {},
   "outputs": [],
   "source": [
    "import cv2\n",
    "import numpy as np\n",
    "\n",
    "def erosion(image, kernel_size=(3, 3)):\n",
    "    kernel = np.ones(kernel_size, np.uint8)\n",
    "    eroded_image = cv2.erode(image, kernel, iterations=1)\n",
    "    return eroded_image"
   ]
  },
  {
   "cell_type": "code",
   "execution_count": null,
   "metadata": {},
   "outputs": [],
   "source": [
    "def closing(image, kernel_size=(3, 3)):\n",
    "    kernel = np.ones(kernel_size, np.uint8)\n",
    "    closed_image = cv2.morphologyEx(image, cv2.MORPH_CLOSE, kernel)\n",
    "    return closed_image"
   ]
  },
  {
   "cell_type": "code",
   "execution_count": null,
   "metadata": {},
   "outputs": [],
   "source": [
    "def normalization(data):    \n",
    "    # Scale data before applying PCA\n",
    "    scaling=StandardScaler()\n",
    "    \n",
    "    # Use fit and transform method \n",
    "    scaling.fit(data)\n",
    "    scaled_data=scaling.transform(data)\n",
    "    return scaled_data"
   ]
  },
  {
   "cell_type": "code",
   "execution_count": null,
   "metadata": {},
   "outputs": [],
   "source": [
    "from sklearn.decomposition import PCA\n",
    "def pca(data):\n",
    "    # Set the n_components=3\n",
    "    print(data.shape)\n",
    "    principal=PCA()\n",
    "    principal.fit(data)\n",
    "    x=principal.transform(data)\n",
    "    # Check the dimensions of data after PCA\n",
    "    print(x.shape)\n"
   ]
  },
  {
   "cell_type": "code",
   "execution_count": null,
   "metadata": {
    "vscode": {
     "languageId": "r"
    }
   },
   "outputs": [],
   "source": [
    "# Apply PCA on the normalized data\n",
    "def apply_pca(input_data):\n",
    "    # Normalize the input data\n",
    "    normalized_data = normalization(input_data)\n",
    "\n",
    "    # Apply PCA on the normalized data\n",
    "    features = pca(normalized_data)\n",
    "    return  features"
   ]
  }
 ],
 "metadata": {
  "language_info": {
   "name": "python"
  }
 },
 "nbformat": 4,
 "nbformat_minor": 2
}
