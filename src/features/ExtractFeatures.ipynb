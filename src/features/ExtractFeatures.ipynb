{
 "cells": [
  {
   "cell_type": "code",
   "execution_count": 1,
   "metadata": {},
   "outputs": [],
   "source": [
    "from ExtractFeatures import extract_features\n",
    "import skimage as ski"
   ]
  },
  {
   "cell_type": "code",
   "execution_count": 2,
   "metadata": {},
   "outputs": [
    {
     "name": "stderr",
     "output_type": "stream",
     "text": [
      "c:\\Codes\\Pattern\\Project\\Arabic-Font-Recognition\\src\\features\\EnclosingArea\\EnclosingArea.py:14: UserWarning: Any labeled images will be returned as a boolean array. Did you mean to use a boolean array?\n",
      "  mask = morphology.remove_small_holes(image , area_threshold=10)\n"
     ]
    },
    {
     "name": "stdout",
     "output_type": "stream",
     "text": [
      "[8.72544298e-02 9.63661935e+01 1.19387814e+02 1.78529620e+07\n",
      " 6.62707659e+01 1.08602866e+02 1.16742240e+07 4.80099630e+01\n",
      " 9.73092148e+01 7.53944900e+06 3.77469779e+01 8.85677421e+01\n",
      " 5.58772000e+06 9.65091593e+01 1.20294382e+02 1.48715560e+07\n",
      " 6.95906552e+01 1.10410293e+02 1.26418830e+07 5.23342357e+01\n",
      " 1.00417665e+02 8.93835900e+06 4.30626007e+01 9.34919548e+01\n",
      " 6.62821200e+06 1.01095639e+02 1.19137152e+02 2.34640410e+07\n",
      " 7.45923177e+01 1.10598014e+02 1.84871450e+07 5.66507483e+01\n",
      " 1.02212668e+02 1.33474360e+07 4.35197350e+01 9.25984347e+01\n",
      " 1.03049570e+07 9.77058384e+01 1.20435481e+02 1.56291240e+07\n",
      " 6.79191117e+01 1.09702085e+02 1.17124540e+07 5.07680863e+01\n",
      " 9.96005725e+01 7.76880300e+06 4.12811575e+01 9.21706488e+01\n",
      " 5.63102400e+06]\n",
      "49\n"
     ]
    }
   ],
   "source": [
    "img = ski.io.imread(\"../data/processed/fonts-dataset/Scheherazade New/4.jpeg\")\n",
    "features = extract_features(img)\n",
    "print(features)\n",
    "print(len(features))"
   ]
  },
  {
   "cell_type": "markdown",
   "metadata": {},
   "source": [
    "<mark> below are some test code the GLCM  and LBP <mark>"
   ]
  },
  {
   "cell_type": "code",
   "execution_count": 3,
   "metadata": {},
   "outputs": [],
   "source": [
    "# from skimage.feature import graycomatrix, graycoprops\n",
    "# from skimage import io, color ,img_as_ubyte\n",
    "# from scipy.stats import entropy\n",
    "# # Load the image\n",
    "# image = io.imread('../../data/raw/fonts-dataset/Scheherazade New/0.jpeg')\n",
    "# image2 = io.imread('../../data/raw/fonts-dataset/Marhey/0.jpeg')\n",
    "\n",
    "# # Convert the image to grayscale\n",
    "# gray_image = color.rgb2gray(image)\n",
    "# gray_image2 = color.rgb2gray(image2)\n",
    "# gray_image = img_as_ubyte(gray_image)\n",
    "# gray_image2 = img_as_ubyte(gray_image2)\n",
    "# # Compute the GLCM\n",
    "# glcm = graycomatrix(gray_image, distances=[5], angles=[0], levels=256, symmetric=True, normed=True)\n",
    "# glcm2 = graycomatrix(gray_image2, distances=[5], angles=[0], levels=256, symmetric=True, normed=True)\n",
    "\n",
    "# # Compute GLCM properties\n",
    "# contrast = graycoprops(glcm, 'contrast')[0, 0]\n",
    "# dissimilarity = graycoprops(glcm, 'dissimilarity')[0, 0]\n",
    "# homogeneity = graycoprops(glcm, 'homogeneity')[0, 0]\n",
    "# energy = graycoprops(glcm, 'energy')[0, 0]\n",
    "# correlation = graycoprops(glcm, 'correlation')[0, 0]\n",
    "\n",
    "\n",
    "# zcontrast = graycoprops(glcm2, 'contrast')[0, 0]\n",
    "# zdissimilarity = graycoprops(glcm2, 'dissimilarity')[0, 0]\n",
    "# zhomogeneity = graycoprops(glcm2, 'homogeneity')[0, 0]\n",
    "# zenergy = graycoprops(glcm2, 'energy')[0, 0]\n",
    "# zcorrelation = graycoprops(glcm2, 'correlation')[0, 0]\n",
    "\n",
    "# print('Contrast:', contrast)\n",
    "# print('Dissimilarity:', dissimilarity)\n",
    "# print('Homogeneity:', homogeneity)\n",
    "# print('Energy:', energy)\n",
    "# print('Correlation:', correlation)\n",
    "# entropy_val = entropy(glcm.flatten())\n",
    "\n",
    "# print('Entropy:', entropy_val)\n",
    "\n",
    "\n",
    "# print('Contrast:', zcontrast)\n",
    "# print('Dissimilarity:', zdissimilarity)\n",
    "# print('Homogeneity:', zhomogeneity)\n",
    "# print('Energy:', zenergy)\n",
    "# print('Correlation:', zcorrelation)\n",
    "# entropy_val = entropy(glcm2.flatten())\n",
    "\n",
    "# print('Entropy:', entropy_val)\n",
    "\n",
    "\n",
    "\n"
   ]
  },
  {
   "cell_type": "code",
   "execution_count": 4,
   "metadata": {},
   "outputs": [],
   "source": [
    "# from skimage import io\n",
    "# from skimage.feature import local_binary_pattern\n",
    "# from skimage.color import rgb2gray\n",
    "# import matplotlib.pyplot as plt\n",
    "\n",
    "# # Load the image\n",
    "# image = io.imread('../../data/processed/fonts-dataset/Lemonada/920.jpeg')\n",
    "\n",
    "# # Convert the image to grayscale\n",
    "\n",
    "# # Settings for LBP\n",
    "# radius = 3\n",
    "# n_points = 8 * radius\n",
    "\n",
    "# # Compute LBP\n",
    "# lbp = local_binary_pattern(image, n_points, radius, method=\"uniform\")\n",
    "\n",
    "# # Display the original image and LBP\n",
    "# fig, (ax1, ax2) = plt.subplots(1, 2, figsize=(12, 6))\n",
    "\n",
    "# ax1.imshow(image, cmap='gray')\n",
    "# ax1.set_title('Original Image')\n",
    "# ax1.axis('off')\n",
    "\n",
    "# ax2.imshow(lbp, cmap='gray')\n",
    "# ax2.set_title('LBP Image')\n",
    "# ax2.axis('off')\n",
    "\n",
    "# plt.show()"
   ]
  }
 ],
 "metadata": {
  "kernelspec": {
   "display_name": "Python 3",
   "language": "python",
   "name": "python3"
  },
  "language_info": {
   "codemirror_mode": {
    "name": "ipython",
    "version": 3
   },
   "file_extension": ".py",
   "mimetype": "text/x-python",
   "name": "python",
   "nbconvert_exporter": "python",
   "pygments_lexer": "ipython3",
   "version": "3.12.1"
  }
 },
 "nbformat": 4,
 "nbformat_minor": 2
}
