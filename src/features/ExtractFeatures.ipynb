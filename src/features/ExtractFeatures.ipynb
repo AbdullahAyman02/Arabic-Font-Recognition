{
 "cells": [
  {
   "cell_type": "code",
   "execution_count": null,
   "metadata": {},
   "outputs": [],
   "source": [
    "from ExtractFeatures import extract_features\n",
    "import skimage as ski"
   ]
  },
  {
   "cell_type": "code",
   "execution_count": null,
   "metadata": {},
   "outputs": [],
   "source": [
    "img = ski.io.imread(\"../data/processed/fonts-dataset/Scheherazade New/4.jpeg\")\n",
    "features = extract_features(img, labelled=True, label_class=3)\n",
    "print(features)\n",
    "print(len(features))"
   ]
  },
  {
   "cell_type": "markdown",
   "metadata": {},
   "source": [
    "<mark> below are some test code the GLCM  and LBP <mark>"
   ]
  },
  {
   "cell_type": "code",
   "execution_count": null,
   "metadata": {},
   "outputs": [],
   "source": [
    "# from skimage.feature import graycomatrix, graycoprops\n",
    "# from skimage import io, color ,img_as_ubyte\n",
    "# from scipy.stats import entropy\n",
    "# # Load the image\n",
    "# image = io.imread('../../data/raw/fonts-dataset/Scheherazade New/0.jpeg')\n",
    "# image2 = io.imread('../../data/raw/fonts-dataset/Marhey/0.jpeg')\n",
    "\n",
    "# # Convert the image to grayscale\n",
    "# gray_image = color.rgb2gray(image)\n",
    "# gray_image2 = color.rgb2gray(image2)\n",
    "# gray_image = img_as_ubyte(gray_image)\n",
    "# gray_image2 = img_as_ubyte(gray_image2)\n",
    "# # Compute the GLCM\n",
    "# glcm = graycomatrix(gray_image, distances=[5], angles=[0], levels=256, symmetric=True, normed=True)\n",
    "# glcm2 = graycomatrix(gray_image2, distances=[5], angles=[0], levels=256, symmetric=True, normed=True)\n",
    "\n",
    "# # Compute GLCM properties\n",
    "# contrast = graycoprops(glcm, 'contrast')[0, 0]\n",
    "# dissimilarity = graycoprops(glcm, 'dissimilarity')[0, 0]\n",
    "# homogeneity = graycoprops(glcm, 'homogeneity')[0, 0]\n",
    "# energy = graycoprops(glcm, 'energy')[0, 0]\n",
    "# correlation = graycoprops(glcm, 'correlation')[0, 0]\n",
    "\n",
    "\n",
    "# zcontrast = graycoprops(glcm2, 'contrast')[0, 0]\n",
    "# zdissimilarity = graycoprops(glcm2, 'dissimilarity')[0, 0]\n",
    "# zhomogeneity = graycoprops(glcm2, 'homogeneity')[0, 0]\n",
    "# zenergy = graycoprops(glcm2, 'energy')[0, 0]\n",
    "# zcorrelation = graycoprops(glcm2, 'correlation')[0, 0]\n",
    "\n",
    "# print('Contrast:', contrast)\n",
    "# print('Dissimilarity:', dissimilarity)\n",
    "# print('Homogeneity:', homogeneity)\n",
    "# print('Energy:', energy)\n",
    "# print('Correlation:', correlation)\n",
    "# entropy_val = entropy(glcm.flatten())\n",
    "\n",
    "# print('Entropy:', entropy_val)\n",
    "\n",
    "\n",
    "# print('Contrast:', zcontrast)\n",
    "# print('Dissimilarity:', zdissimilarity)\n",
    "# print('Homogeneity:', zhomogeneity)\n",
    "# print('Energy:', zenergy)\n",
    "# print('Correlation:', zcorrelation)\n",
    "# entropy_val = entropy(glcm2.flatten())\n",
    "\n",
    "# print('Entropy:', entropy_val)\n",
    "\n",
    "\n",
    "\n"
   ]
  },
  {
   "cell_type": "code",
   "execution_count": null,
   "metadata": {},
   "outputs": [],
   "source": [
    "# from skimage import io\n",
    "# from skimage.feature import local_binary_pattern\n",
    "# from skimage.color import rgb2gray\n",
    "# import matplotlib.pyplot as plt\n",
    "\n",
    "# # Load the image\n",
    "# image = io.imread('../../data/processed/fonts-dataset/Lemonada/920.jpeg')\n",
    "\n",
    "# # Convert the image to grayscale\n",
    "\n",
    "# # Settings for LBP\n",
    "# radius = 3\n",
    "# n_points = 8 * radius\n",
    "\n",
    "# # Compute LBP\n",
    "# lbp = local_binary_pattern(image, n_points, radius, method=\"uniform\")\n",
    "\n",
    "# # Display the original image and LBP\n",
    "# fig, (ax1, ax2) = plt.subplots(1, 2, figsize=(12, 6))\n",
    "\n",
    "# ax1.imshow(image, cmap='gray')\n",
    "# ax1.set_title('Original Image')\n",
    "# ax1.axis('off')\n",
    "\n",
    "# ax2.imshow(lbp, cmap='gray')\n",
    "# ax2.set_title('LBP Image')\n",
    "# ax2.axis('off')\n",
    "\n",
    "# plt.show()"
   ]
  }
 ],
 "metadata": {
  "kernelspec": {
   "display_name": "Python 3",
   "language": "python",
   "name": "python3"
  },
  "language_info": {
   "codemirror_mode": {
    "name": "ipython",
    "version": 3
   },
   "file_extension": ".py",
   "mimetype": "text/x-python",
   "name": "python",
   "nbconvert_exporter": "python",
   "pygments_lexer": "ipython3",
   "version": "3.12.1"
  }
 },
 "nbformat": 4,
 "nbformat_minor": 2
}
