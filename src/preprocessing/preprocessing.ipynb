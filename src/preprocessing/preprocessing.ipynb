{
 "cells": [
  {
   "cell_type": "markdown",
   "metadata": {},
   "source": [
    "# Imports"
   ]
  },
  {
   "cell_type": "code",
   "execution_count": 3,
   "metadata": {},
   "outputs": [],
   "source": [
    "from PreProcessing import PreProcessing\n",
    "import skimage as ski\n",
    "import numpy as np"
   ]
  },
  {
   "cell_type": "markdown",
   "metadata": {},
   "source": [
    "### Apply Preprocessing on all images and save "
   ]
  },
  {
   "cell_type": "code",
   "execution_count": 5,
   "metadata": {},
   "outputs": [
    {
     "name": "stderr",
     "output_type": "stream",
     "text": [
      "C:\\Users\\alykh\\AppData\\Local\\Temp\\ipykernel_30732\\3661203066.py:13: UserWarning: ../data/processed/fonts-dataset/IBM Plex Sans Arabic/671.jpeg is a low contrast image\n",
      "  ski.io.imsave(\"../data/processed/fonts-dataset/\"+folder_name[j]+\"/\"+str(i)+\".jpeg\", preprocessed_image)\n",
      "C:\\Users\\alykh\\AppData\\Local\\Temp\\ipykernel_30732\\3661203066.py:13: UserWarning: ../data/processed/fonts-dataset/IBM Plex Sans Arabic/803.jpeg is a low contrast image\n",
      "  ski.io.imsave(\"../data/processed/fonts-dataset/\"+folder_name[j]+\"/\"+str(i)+\".jpeg\", preprocessed_image)\n",
      "C:\\Users\\alykh\\AppData\\Local\\Temp\\ipykernel_30732\\3661203066.py:13: UserWarning: ../data/processed/fonts-dataset/Marhey/261.jpeg is a low contrast image\n",
      "  ski.io.imsave(\"../data/processed/fonts-dataset/\"+folder_name[j]+\"/\"+str(i)+\".jpeg\", preprocessed_image)\n",
      "C:\\Users\\alykh\\AppData\\Local\\Temp\\ipykernel_30732\\3661203066.py:13: UserWarning: ../data/processed/fonts-dataset/Marhey/265.jpeg is a low contrast image\n",
      "  ski.io.imsave(\"../data/processed/fonts-dataset/\"+folder_name[j]+\"/\"+str(i)+\".jpeg\", preprocessed_image)\n",
      "C:\\Users\\alykh\\AppData\\Local\\Temp\\ipykernel_30732\\3661203066.py:13: UserWarning: ../data/processed/fonts-dataset/Marhey/268.jpeg is a low contrast image\n",
      "  ski.io.imsave(\"../data/processed/fonts-dataset/\"+folder_name[j]+\"/\"+str(i)+\".jpeg\", preprocessed_image)\n",
      "C:\\Users\\alykh\\AppData\\Local\\Temp\\ipykernel_30732\\3661203066.py:13: UserWarning: ../data/processed/fonts-dataset/Marhey/291.jpeg is a low contrast image\n",
      "  ski.io.imsave(\"../data/processed/fonts-dataset/\"+folder_name[j]+\"/\"+str(i)+\".jpeg\", preprocessed_image)\n",
      "C:\\Users\\alykh\\AppData\\Local\\Temp\\ipykernel_30732\\3661203066.py:13: UserWarning: ../data/processed/fonts-dataset/Marhey/331.jpeg is a low contrast image\n",
      "  ski.io.imsave(\"../data/processed/fonts-dataset/\"+folder_name[j]+\"/\"+str(i)+\".jpeg\", preprocessed_image)\n",
      "C:\\Users\\alykh\\AppData\\Local\\Temp\\ipykernel_30732\\3661203066.py:13: UserWarning: ../data/processed/fonts-dataset/Marhey/352.jpeg is a low contrast image\n",
      "  ski.io.imsave(\"../data/processed/fonts-dataset/\"+folder_name[j]+\"/\"+str(i)+\".jpeg\", preprocessed_image)\n",
      "C:\\Users\\alykh\\AppData\\Local\\Temp\\ipykernel_30732\\3661203066.py:13: UserWarning: ../data/processed/fonts-dataset/Marhey/424.jpeg is a low contrast image\n",
      "  ski.io.imsave(\"../data/processed/fonts-dataset/\"+folder_name[j]+\"/\"+str(i)+\".jpeg\", preprocessed_image)\n",
      "C:\\Users\\alykh\\AppData\\Local\\Temp\\ipykernel_30732\\3661203066.py:13: UserWarning: ../data/processed/fonts-dataset/Marhey/519.jpeg is a low contrast image\n",
      "  ski.io.imsave(\"../data/processed/fonts-dataset/\"+folder_name[j]+\"/\"+str(i)+\".jpeg\", preprocessed_image)\n",
      "C:\\Users\\alykh\\AppData\\Local\\Temp\\ipykernel_30732\\3661203066.py:13: UserWarning: ../data/processed/fonts-dataset/Marhey/680.jpeg is a low contrast image\n",
      "  ski.io.imsave(\"../data/processed/fonts-dataset/\"+folder_name[j]+\"/\"+str(i)+\".jpeg\", preprocessed_image)\n",
      "C:\\Users\\alykh\\AppData\\Local\\Temp\\ipykernel_30732\\3661203066.py:13: UserWarning: ../data/processed/fonts-dataset/Marhey/696.jpeg is a low contrast image\n",
      "  ski.io.imsave(\"../data/processed/fonts-dataset/\"+folder_name[j]+\"/\"+str(i)+\".jpeg\", preprocessed_image)\n",
      "C:\\Users\\alykh\\AppData\\Local\\Temp\\ipykernel_30732\\3661203066.py:13: UserWarning: ../data/processed/fonts-dataset/Marhey/739.jpeg is a low contrast image\n",
      "  ski.io.imsave(\"../data/processed/fonts-dataset/\"+folder_name[j]+\"/\"+str(i)+\".jpeg\", preprocessed_image)\n",
      "C:\\Users\\alykh\\AppData\\Local\\Temp\\ipykernel_30732\\3661203066.py:13: UserWarning: ../data/processed/fonts-dataset/Marhey/810.jpeg is a low contrast image\n",
      "  ski.io.imsave(\"../data/processed/fonts-dataset/\"+folder_name[j]+\"/\"+str(i)+\".jpeg\", preprocessed_image)\n",
      "C:\\Users\\alykh\\AppData\\Local\\Temp\\ipykernel_30732\\3661203066.py:13: UserWarning: ../data/processed/fonts-dataset/Marhey/854.jpeg is a low contrast image\n",
      "  ski.io.imsave(\"../data/processed/fonts-dataset/\"+folder_name[j]+\"/\"+str(i)+\".jpeg\", preprocessed_image)\n",
      "C:\\Users\\alykh\\AppData\\Local\\Temp\\ipykernel_30732\\3661203066.py:13: UserWarning: ../data/processed/fonts-dataset/Marhey/891.jpeg is a low contrast image\n",
      "  ski.io.imsave(\"../data/processed/fonts-dataset/\"+folder_name[j]+\"/\"+str(i)+\".jpeg\", preprocessed_image)\n",
      "C:\\Users\\alykh\\AppData\\Local\\Temp\\ipykernel_30732\\3661203066.py:13: UserWarning: ../data/processed/fonts-dataset/Marhey/896.jpeg is a low contrast image\n",
      "  ski.io.imsave(\"../data/processed/fonts-dataset/\"+folder_name[j]+\"/\"+str(i)+\".jpeg\", preprocessed_image)\n",
      "C:\\Users\\alykh\\AppData\\Local\\Temp\\ipykernel_30732\\3661203066.py:13: UserWarning: ../data/processed/fonts-dataset/Scheherazade New/108.jpeg is a low contrast image\n",
      "  ski.io.imsave(\"../data/processed/fonts-dataset/\"+folder_name[j]+\"/\"+str(i)+\".jpeg\", preprocessed_image)\n",
      "C:\\Users\\alykh\\AppData\\Local\\Temp\\ipykernel_30732\\3661203066.py:13: UserWarning: ../data/processed/fonts-dataset/Scheherazade New/122.jpeg is a low contrast image\n",
      "  ski.io.imsave(\"../data/processed/fonts-dataset/\"+folder_name[j]+\"/\"+str(i)+\".jpeg\", preprocessed_image)\n",
      "C:\\Users\\alykh\\AppData\\Local\\Temp\\ipykernel_30732\\3661203066.py:13: UserWarning: ../data/processed/fonts-dataset/Scheherazade New/148.jpeg is a low contrast image\n",
      "  ski.io.imsave(\"../data/processed/fonts-dataset/\"+folder_name[j]+\"/\"+str(i)+\".jpeg\", preprocessed_image)\n",
      "C:\\Users\\alykh\\AppData\\Local\\Temp\\ipykernel_30732\\3661203066.py:13: UserWarning: ../data/processed/fonts-dataset/Scheherazade New/216.jpeg is a low contrast image\n",
      "  ski.io.imsave(\"../data/processed/fonts-dataset/\"+folder_name[j]+\"/\"+str(i)+\".jpeg\", preprocessed_image)\n",
      "C:\\Users\\alykh\\AppData\\Local\\Temp\\ipykernel_30732\\3661203066.py:13: UserWarning: ../data/processed/fonts-dataset/Scheherazade New/256.jpeg is a low contrast image\n",
      "  ski.io.imsave(\"../data/processed/fonts-dataset/\"+folder_name[j]+\"/\"+str(i)+\".jpeg\", preprocessed_image)\n",
      "C:\\Users\\alykh\\AppData\\Local\\Temp\\ipykernel_30732\\3661203066.py:13: UserWarning: ../data/processed/fonts-dataset/Scheherazade New/376.jpeg is a low contrast image\n",
      "  ski.io.imsave(\"../data/processed/fonts-dataset/\"+folder_name[j]+\"/\"+str(i)+\".jpeg\", preprocessed_image)\n",
      "C:\\Users\\alykh\\AppData\\Local\\Temp\\ipykernel_30732\\3661203066.py:13: UserWarning: ../data/processed/fonts-dataset/Scheherazade New/397.jpeg is a low contrast image\n",
      "  ski.io.imsave(\"../data/processed/fonts-dataset/\"+folder_name[j]+\"/\"+str(i)+\".jpeg\", preprocessed_image)\n",
      "C:\\Users\\alykh\\AppData\\Local\\Temp\\ipykernel_30732\\3661203066.py:13: UserWarning: ../data/processed/fonts-dataset/Scheherazade New/501.jpeg is a low contrast image\n",
      "  ski.io.imsave(\"../data/processed/fonts-dataset/\"+folder_name[j]+\"/\"+str(i)+\".jpeg\", preprocessed_image)\n",
      "C:\\Users\\alykh\\AppData\\Local\\Temp\\ipykernel_30732\\3661203066.py:13: UserWarning: ../data/processed/fonts-dataset/Scheherazade New/517.jpeg is a low contrast image\n",
      "  ski.io.imsave(\"../data/processed/fonts-dataset/\"+folder_name[j]+\"/\"+str(i)+\".jpeg\", preprocessed_image)\n",
      "C:\\Users\\alykh\\AppData\\Local\\Temp\\ipykernel_30732\\3661203066.py:13: UserWarning: ../data/processed/fonts-dataset/Scheherazade New/521.jpeg is a low contrast image\n",
      "  ski.io.imsave(\"../data/processed/fonts-dataset/\"+folder_name[j]+\"/\"+str(i)+\".jpeg\", preprocessed_image)\n",
      "C:\\Users\\alykh\\AppData\\Local\\Temp\\ipykernel_30732\\3661203066.py:13: UserWarning: ../data/processed/fonts-dataset/Scheherazade New/597.jpeg is a low contrast image\n",
      "  ski.io.imsave(\"../data/processed/fonts-dataset/\"+folder_name[j]+\"/\"+str(i)+\".jpeg\", preprocessed_image)\n",
      "C:\\Users\\alykh\\AppData\\Local\\Temp\\ipykernel_30732\\3661203066.py:13: UserWarning: ../data/processed/fonts-dataset/Scheherazade New/727.jpeg is a low contrast image\n",
      "  ski.io.imsave(\"../data/processed/fonts-dataset/\"+folder_name[j]+\"/\"+str(i)+\".jpeg\", preprocessed_image)\n",
      "C:\\Users\\alykh\\AppData\\Local\\Temp\\ipykernel_30732\\3661203066.py:13: UserWarning: ../data/processed/fonts-dataset/Scheherazade New/728.jpeg is a low contrast image\n",
      "  ski.io.imsave(\"../data/processed/fonts-dataset/\"+folder_name[j]+\"/\"+str(i)+\".jpeg\", preprocessed_image)\n",
      "C:\\Users\\alykh\\AppData\\Local\\Temp\\ipykernel_30732\\3661203066.py:13: UserWarning: ../data/processed/fonts-dataset/Scheherazade New/859.jpeg is a low contrast image\n",
      "  ski.io.imsave(\"../data/processed/fonts-dataset/\"+folder_name[j]+\"/\"+str(i)+\".jpeg\", preprocessed_image)\n"
     ]
    }
   ],
   "source": [
    "# read image \n",
    "folder_name = [\"IBM Plex Sans Arabic\" ,\"Lemonada\" , \"Marhey\" , \"Scheherazade New\" ]\n",
    "\n",
    "for j in range(0 , 4 ) : \n",
    "    for i in range(0, 1000): \n",
    "        img = ski.io.imread(\"../data/raw/fonts-dataset/\"+folder_name[j]+\"/\"+str(i)+\".jpeg\")\n",
    "\n",
    "        if len(np.unique(img)) == 1 : \n",
    "            continue # all image contain the same color \n",
    "\n",
    "        preprocessed_image = PreProcessing(img)\n",
    "\n",
    "        ski.io.imsave(\"../data/processed/fonts-dataset/\"+folder_name[j]+\"/\"+str(i)+\".jpeg\", preprocessed_image)\n",
    "\n",
    "\n"
   ]
  }
 ],
 "metadata": {
  "kernelspec": {
   "display_name": "Python 3",
   "language": "python",
   "name": "python3"
  },
  "language_info": {
   "codemirror_mode": {
    "name": "ipython",
    "version": 3
   },
   "file_extension": ".py",
   "mimetype": "text/x-python",
   "name": "python",
   "nbconvert_exporter": "python",
   "pygments_lexer": "ipython3",
   "version": "3.11.5"
  }
 },
 "nbformat": 4,
 "nbformat_minor": 2
}
