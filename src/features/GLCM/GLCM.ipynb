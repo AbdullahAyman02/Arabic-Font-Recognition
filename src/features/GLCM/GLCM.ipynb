{
 "cells": [
  {
   "cell_type": "markdown",
   "metadata": {},
   "source": [
    "# Imports"
   ]
  },
  {
   "cell_type": "code",
   "execution_count": null,
   "metadata": {},
   "outputs": [],
   "source": [
    "from GLCM import glcm_features\n",
    "import numpy as np\n",
    "import tqdm\n",
    "import skimage.io as io"
   ]
  },
  {
   "cell_type": "markdown",
   "metadata": {},
   "source": [
    "# Testing GLCM on 200 images/font"
   ]
  },
  {
   "cell_type": "code",
   "execution_count": null,
   "metadata": {},
   "outputs": [],
   "source": [
    "Folders = ['IBM Plex Sans Arabic', 'Lemonada', 'Marhey', 'Scheherazade New']\n",
    "\n",
    "for j in range(4):\n",
    "    for i in tqdm.tqdm(range(200)):\n",
    "        img = io.imread('../../data/processed/fonts-dataset/' + Folders[j] + '/' + str(i) + '.jpeg')\n",
    "        glcm = glcm_features(img)\n",
    "        # print(glcm"
   ]
  }
 ],
 "metadata": {
  "kernelspec": {
   "display_name": "Python 3",
   "language": "python",
   "name": "python3"
  },
  "language_info": {
   "codemirror_mode": {
    "name": "ipython",
    "version": 3
   },
   "file_extension": ".py",
   "mimetype": "text/x-python",
   "name": "python",
   "nbconvert_exporter": "python",
   "pygments_lexer": "ipython3",
   "version": "3.12.1"
  }
 },
 "nbformat": 4,
 "nbformat_minor": 2
}
