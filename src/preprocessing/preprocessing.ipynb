{
 "cells": [
  {
   "cell_type": "code",
   "execution_count": 1,
   "metadata": {},
   "outputs": [],
   "source": [
    "from PreProcessing import PreProcessing\n",
    "import skimage as ski\n",
    "import numpy as np"
   ]
  },
  {
   "cell_type": "markdown",
   "metadata": {},
   "source": [
    "### Apply Preprocessing on all images and save "
   ]
  },
  {
   "cell_type": "code",
   "execution_count": 3,
   "metadata": {},
   "outputs": [],
   "source": [
    "# read image \n",
    "folder_name = [\"IBM Plex Sans Arabic\" ,\"Lemonada\" , \"Marhey\" , \"Scheherazade New\" ]\n",
    "\n",
    "for j in range(0 , 4 ) : \n",
    "    for i in range(0, 1000): \n",
    "        img = ski.io.imread(\"../data/raw/fonts-dataset/\"+folder_name[j]+\"/\"+str(i)+\".jpeg\")\n",
    "\n",
    "        if len(np.unique(img)) == 1 : \n",
    "            continue # all image contain the same color \n",
    "\n",
    "        preprocessed_image = PreProcessing(img)\n",
    "\n",
    "        ski.io.imsave(\"../data/processed/fonts-dataset/\"+folder_name[j]+\"/\"+str(i)+\".jpeg\", preprocessed_image)\n",
    "\n",
    "\n"
   ]
  }
 ],
 "metadata": {
  "kernelspec": {
   "display_name": "Python 3",
   "language": "python",
   "name": "python3"
  },
  "language_info": {
   "codemirror_mode": {
    "name": "ipython",
    "version": 3
   },
   "file_extension": ".py",
   "mimetype": "text/x-python",
   "name": "python",
   "nbconvert_exporter": "python",
   "pygments_lexer": "ipython3",
   "version": "3.12.1"
  }
 },
 "nbformat": 4,
 "nbformat_minor": 2
}
