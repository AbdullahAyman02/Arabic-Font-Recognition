{
 "cells": [
  {
   "cell_type": "code",
   "execution_count": null,
   "metadata": {},
   "outputs": [],
   "source": [
    "import sys\n",
    "sys.path.append(\"../../PreProcessing\")\n",
    "sys.path.append(\"../../features\")\n",
    "\n",
    "from PreProcessing import PreProcessing\n",
    "from ExtractFeatures import extract_features\n",
    "import numpy as np\n",
    "import matplotlib.pyplot as plt\n",
    "import pandas as pd\n",
    "import skimage as ski\n",
    "from sklearn.model_selection import train_test_split\n",
    "import tqdm\n",
    "import pandas as pd\n",
    "import os\n",
    "from sklearn import svm\n",
    "from sklearn.preprocessing import StandardScaler\n",
    "from sklearn.metrics import accuracy_score\n",
    "\n"
   ]
  },
  {
   "cell_type": "markdown",
   "metadata": {},
   "source": [
    "Model Training Pipeline"
   ]
  },
  {
   "cell_type": "code",
   "execution_count": null,
   "metadata": {},
   "outputs": [],
   "source": [
    "# 1. Preprocess the images\n",
    "# 2. Extract features\n",
    "# 3. Train the model\n",
    "# 4. Test the model\n",
    "\n",
    "def main():\n",
    "\n",
    "    folder_name = [\"IBM Plex Sans Arabic\" ,\"Lemonada\" , \"Marhey\" , \"Scheherazade New\" ]\n",
    "\n",
    "    # for j in range(0 , 4 ) : \n",
    "    #     for i in tqdm(range(0, 1000)): \n",
    "    #         img = ski.io.imread(\"../../data/raw/fonts-dataset/\"+folder_name[j]+\"/\"+str(i)+\".jpeg\")\n",
    "            \n",
    "    #         if len(np.unique(img)) == 1 : \n",
    "    #             continue # all image contain the same color \n",
    "\n",
    "    #         preprocessed_image = PreProcessing(img)\n",
    "    #         ski.io.imsave(\"../../data/processed/fonts-dataset/\"+folder_name[j]+\"/\"+str(i)+\".jpeg\", preprocessed_image)\n",
    "\n",
    "    # 2. Extract features\n",
    "    # Extracting features\n",
    "    columns = [\"area_ratio\"]\n",
    "    for j in range(1 , 17):\n",
    "        columns.append(\"gabor_mean_\" + str(j))\n",
    "        columns.append(\"gabor_std_\" + str(j))\n",
    "        columns.append(\"gabor_energy_\" + str(j))\n",
    "    columns.append(\"font_type\")\n",
    "    features = pd.DataFrame(columns=columns)\n",
    "    for j in range(0 , 4):\n",
    "        for i in tqdm.tqdm(range(0, 1000)):\n",
    "            pathname = \"../../data/processed/fonts-dataset/\"+folder_name[j]+\"/\"+str(i)+\".jpeg\"\n",
    "            if os.path.exists(pathname):\n",
    "                img = ski.io.imread(pathname)\n",
    "                extractFeatures = extract_features(img)\n",
    "                features = pd.concat([features , pd.DataFrame([np.concatenate([extractFeatures , [j]])] , columns = columns)])\n",
    "\n",
    "\n",
    "    features.to_csv('./features_1000.csv')\n",
    "\n",
    "    # 3. Train the model\n",
    "    dataset = pd.read_csv('./features_1000.csv')\n",
    "\n",
    "    # column split\n",
    "    x_data = dataset.drop(columns=['Unnamed: 0'])     \n",
    "    x_data = x_data.iloc[:, :-1]                                   \n",
    "    y_data = dataset['font_type']                              \n",
    "\n",
    "    #train-test split\n",
    "    x_data, y_data = x_data.to_numpy(), y_data.to_numpy()\n",
    "    x_train, x_val, y_train, y_val = train_test_split(x_data, y_data, test_size=0.2, random_state=75, stratify=y_data)\n",
    "\n",
    "    # Normalize the data\n",
    "    scaler = StandardScaler().fit(x_train)\n",
    "    x_train = scaler.transform(x_train) \n",
    "\n",
    "    svm_model = svm.SVC(kernel='poly', C=10, gamma='scale', degree=3, coef0=1)\n",
    "    svm_model.fit(x_train, y_train)\n",
    "\n",
    "    # 4. Test the model\n",
    "    y_pred = svm_model.predict(x_val)\n",
    "    accuracy = accuracy_score(y_val, y_pred)\n",
    "    print(\"svm Accuracy:\", accuracy)\n",
    "\n",
    "\n",
    "\n",
    "main()"
   ]
  },
  {
   "cell_type": "code",
   "execution_count": null,
   "metadata": {},
   "outputs": [],
   "source": []
  }
 ],
 "metadata": {
  "kernelspec": {
   "display_name": "Python 3",
   "language": "python",
   "name": "python3"
  },
  "language_info": {
   "codemirror_mode": {
    "name": "ipython",
    "version": 3
   },
   "file_extension": ".py",
   "mimetype": "text/x-python",
   "name": "python",
   "nbconvert_exporter": "python",
   "pygments_lexer": "ipython3",
   "version": "3.12.1"
  }
 },
 "nbformat": 4,
 "nbformat_minor": 2
}
