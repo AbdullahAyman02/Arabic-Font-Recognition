{
 "cells": [
  {
   "cell_type": "code",
   "execution_count": 1,
   "metadata": {},
   "outputs": [],
   "source": [
    "from Zernike import zernike\n",
    "import numpy as np\n",
    "import tqdm\n",
    "import skimage.io as io"
   ]
  },
  {
   "cell_type": "code",
   "execution_count": 2,
   "metadata": {},
   "outputs": [
    {
     "name": "stderr",
     "output_type": "stream",
     "text": [
      "100%|██████████| 200/200 [00:08<00:00, 23.32it/s]\n",
      "100%|██████████| 200/200 [00:09<00:00, 20.68it/s]\n",
      "100%|██████████| 200/200 [00:08<00:00, 22.32it/s]\n",
      "100%|██████████| 200/200 [00:07<00:00, 28.22it/s]\n"
     ]
    }
   ],
   "source": [
    "Folders = ['IBM Plex Sans Arabic', 'Lemonada', 'Marhey', 'Scheherazade New']\n",
    "\n",
    "for j in range(4):\n",
    "    for i in tqdm.tqdm(range(200)):\n",
    "        img = io.imread('../../data/processed/fonts-dataset/' + Folders[j] + '/' + str(i) + '.jpeg')\n",
    "        z = zernike(img)\n",
    "        # print(z.shape)\n"
   ]
  }
 ],
 "metadata": {
  "kernelspec": {
   "display_name": "Python 3",
   "language": "python",
   "name": "python3"
  },
  "language_info": {
   "codemirror_mode": {
    "name": "ipython",
    "version": 3
   },
   "file_extension": ".py",
   "mimetype": "text/x-python",
   "name": "python",
   "nbconvert_exporter": "python",
   "pygments_lexer": "ipython3",
   "version": "3.12.1"
  }
 },
 "nbformat": 4,
 "nbformat_minor": 2
}
